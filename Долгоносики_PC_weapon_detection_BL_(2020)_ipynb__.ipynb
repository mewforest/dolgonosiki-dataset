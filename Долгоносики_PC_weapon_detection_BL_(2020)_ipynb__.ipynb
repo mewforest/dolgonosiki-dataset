{
 "cells": [
  {
   "cell_type": "markdown",
   "metadata": {
    "id": "ubUsE7qtMWfj"
   },
   "source": [
    "## DOLGONOSIK PC EDITION [2020]\n",
    "\n",
    "### **Inroduction**:\n",
    "\n",
    "\n",
    "Aiming to minimize police response time by detecting weapons in a live cctv camera. The main motivation of this project is due to the increasing number of school mass shootings in the U.S.\n",
    "\n",
    "\n",
    "### This notebook is a part of this [medium post](https://medium.com/@alaasinjab/detailed-tutorial-build-your-custom-real-time-object-detector-5ade1017fd2d)."
   ]
  },
  {
   "cell_type": "markdown",
   "metadata": {
    "id": "65t7YUhnzDCE"
   },
   "source": [
    "## Weapon Detection Using Tensorflow Object Detection API"
   ]
  },
  {
   "cell_type": "markdown",
   "metadata": {
    "id": "sv3Zm042QGJy"
   },
   "source": [
    "## Installing Required Packages "
   ]
  },
  {
   "cell_type": "markdown",
   "metadata": {},
   "source": [
    "Installation on Windows - [source](https://tensorflow-object-detection-api-tutorial.readthedocs.io/en/tensorflow-1.14/install.html)\n",
    "\n",
    "**MUST** be installed:\n",
    "- Python 3.7 (64bit) (PATH)\n",
    "- Git (PATH)\n",
    "- 7zip (PATH)"
   ]
  },
  {
   "cell_type": "code",
   "execution_count": null,
   "metadata": {},
   "outputs": [],
   "source": [
    "#installing tf\n",
    "!pip install --upgrade --ignore-installed  tensorflow==1.14"
   ]
  },
  {
   "cell_type": "code",
   "execution_count": null,
   "metadata": {},
   "outputs": [],
   "source": [
    "# installing dependenies for project\n",
    "!pip install pillow lxml jupyter matplotlib cython opencv-python"
   ]
  },
  {
   "cell_type": "code",
   "execution_count": 12,
   "metadata": {},
   "outputs": [],
   "source": [
    "# cleaning from previous installation \n",
    "\n",
    "# uncomment here if smth failed to return to project's root folder\n",
    "# %cd ..\n",
    "# %pwd\n",
    "\n",
    "import shutil\n",
    "shutil.rmtree('tf', ignore_errors=True)"
   ]
  },
  {
   "cell_type": "code",
   "execution_count": 13,
   "metadata": {
    "pycharm": {
     "is_executing": true
    }
   },
   "outputs": [
    {
     "output_type": "stream",
     "name": "stdout",
     "text": [
      "f:\\projects_local\\dolgonosiki-dataset\\tf\n",
      "Cloning into 'models'...\n",
      "Updating files:  81% (1798/2196)\n",
      "Updating files:  82% (1801/2196)\n",
      "Updating files:  83% (1823/2196)\n",
      "Updating files:  84% (1845/2196)\n",
      "Updating files:  85% (1867/2196)\n",
      "Updating files:  86% (1889/2196)\n",
      "Updating files:  87% (1911/2196)\n",
      "Updating files:  88% (1933/2196)\n",
      "Updating files:  89% (1955/2196)\n",
      "Updating files:  90% (1977/2196)\n",
      "Updating files:  91% (1999/2196)\n",
      "Updating files:  92% (2021/2196)\n",
      "Updating files:  93% (2043/2196)\n",
      "Updating files:  94% (2065/2196)\n",
      "Updating files:  95% (2087/2196)\n",
      "Updating files:  96% (2109/2196)\n",
      "Updating files:  97% (2131/2196)\n",
      "Updating files:  98% (2153/2196)\n",
      "Updating files:  99% (2175/2196)\n",
      "Updating files: 100% (2196/2196)\n",
      "Updating files: 100% (2196/2196), done.\n",
      "\n",
      "7-Zip 19.00 (x64) : Copyright (c) 1999-2018 Igor Pavlov : 2019-02-21\n",
      "\n",
      "Scanning the drive for archives:\n",
      "1 file, 1474788 bytes (1441 KiB)\n",
      "\n",
      "Extracting archive: .\\protoc.zip\n",
      "--\n",
      "Path = .\\protoc.zip\n",
      "Type = zip\n",
      "Physical Size = 1474788\n",
      "\n",
      "Everything is Ok\n",
      "\n",
      "Folders: 5\n",
      "Files: 14\n",
      "Size:       3854360\n",
      "Compressed: 1474788\n"
     ]
    }
   ],
   "source": [
    "# installing object detection \n",
    "\n",
    "!mkdir \"tf\"\n",
    "%cd \"tf\"\n",
    "\n",
    "!git clone https://github.com/tensorflow/models.git\n",
    "!python -c \"from urllib.request import urlretrieve; urlretrieve('https://github.com/protocolbuffers/protobuf/releases/download/v3.14.0/protoc-3.14.0-win64.zip', 'protoc.zip')\"\n",
    "!7z x .\\protoc.zip\n",
    "\n"
   ]
  },
  {
   "cell_type": "code",
   "execution_count": 14,
   "metadata": {
    "pycharm": {
     "is_executing": true
    }
   },
   "outputs": [
    {
     "output_type": "stream",
     "name": "stdout",
     "text": [
      "f:\\projects_local\\dolgonosiki-dataset\\tf\\models\\research\n",
      "Processing f:\\projects_local\\dolgonosiki-dataset\\tf\\models\\research\n",
      "Requirement already satisfied: Pillow>=1.0 in f:\\projects_local\\dolgonosiki-dataset\\venv\\lib\\site-packages (from object-detection==0.1) (8.0.1)\n",
      "Requirement already satisfied: Matplotlib>=2.1 in f:\\projects_local\\dolgonosiki-dataset\\venv\\lib\\site-packages (from object-detection==0.1) (3.3.3)\n",
      "Requirement already satisfied: Cython>=0.28.1 in f:\\projects_local\\dolgonosiki-dataset\\venv\\lib\\site-packages (from object-detection==0.1) (0.29.21)\n",
      "Requirement already satisfied: cycler>=0.10 in f:\\projects_local\\dolgonosiki-dataset\\venv\\lib\\site-packages (from Matplotlib>=2.1->object-detection==0.1) (0.10.0)\n",
      "Requirement already satisfied: numpy>=1.15 in f:\\projects_local\\dolgonosiki-dataset\\venv\\lib\\site-packages (from Matplotlib>=2.1->object-detection==0.1) (1.19.4)\n",
      "Requirement already satisfied: kiwisolver>=1.0.1 in f:\\projects_local\\dolgonosiki-dataset\\venv\\lib\\site-packages (from Matplotlib>=2.1->object-detection==0.1) (1.3.1)\n",
      "Requirement already satisfied: pyparsing!=2.0.4,!=2.1.2,!=2.1.6,>=2.0.3 in f:\\projects_local\\dolgonosiki-dataset\\venv\\lib\\site-packages (from Matplotlib>=2.1->object-detection==0.1) (2.4.7)\n",
      "Requirement already satisfied: python-dateutil>=2.1 in f:\\projects_local\\dolgonosiki-dataset\\venv\\lib\\site-packages (from Matplotlib>=2.1->object-detection==0.1) (2.8.1)\n",
      "Requirement already satisfied: six in f:\\projects_local\\dolgonosiki-dataset\\venv\\lib\\site-packages (from cycler>=0.10->Matplotlib>=2.1->object-detection==0.1) (1.15.0)\n",
      "Building wheels for collected packages: object-detection\n",
      "  Building wheel for object-detection (setup.py): started\n",
      "  Building wheel for object-detection (setup.py): finished with status 'done'\n",
      "  Created wheel for object-detection: filename=object_detection-0.1-py3-none-any.whl size=1386277 sha256=e3121cbb98c82dab7b137c1dcc0bdf58ea31c9fff3a5d5ca4990ec6e5106c2bf\n",
      "  Stored in directory: C:\\Users\\mewfo\\AppData\\Local\\Temp\\pip-ephem-wheel-cache-jqe2yb78\\wheels\\ec\\5b\\51\\bbfe6cf914c8e6feb80d5369532df75d68c57d9dc20f0bf977\n",
      "Successfully built object-detection\n",
      "Installing collected packages: object-detection\n",
      "Successfully installed object-detection-0.1\n"
     ]
    }
   ],
   "source": [
    "\n",
    "%cd models/research/\n",
    "!..\\..\\bin\\protoc.exe object_detection/protos/*.proto --python_out=.\n",
    "!rm -r include; rm -r bin; rm -r protoc.zip\n",
    "!pip install ."
   ]
  },
  {
   "cell_type": "code",
   "execution_count": 24,
   "metadata": {
    "colab": {
     "base_uri": "https://localhost:8080/"
    },
    "id": "68StUELaQPS2",
    "outputId": "eb4c653c-6485-4116-c6e8-12894568e552"
   },
   "outputs": [
    {
     "output_type": "stream",
     "name": "stdout",
     "text": [
      "Collecting numpy==1.19.3\n",
      "  Using cached numpy-1.19.3-cp37-cp37m-win_amd64.whl (13.2 MB)\n",
      "Installing collected packages: numpy\n",
      "Successfully installed numpy-1.19.4\n",
      "Requirement already satisfied: tf_slim in f:\\projects_local\\dolgonosiki-dataset\\venv\\lib\\site-packages (1.1.0)\n",
      "Requirement already satisfied: lvis in f:\\projects_local\\dolgonosiki-dataset\\venv\\lib\\site-packages (0.5.3)\n",
      "Requirement already satisfied: Cython>=0.29.12 in f:\\projects_local\\dolgonosiki-dataset\\venv\\lib\\site-packages (from lvis) (0.29.21)\n",
      "Requirement already satisfied: pyparsing>=2.4.0 in f:\\projects_local\\dolgonosiki-dataset\\venv\\lib\\site-packages (from lvis) (2.4.7)\n",
      "Requirement already satisfied: numpy>=1.18.2 in f:\\projects_local\\dolgonosiki-dataset\\venv\\lib\\site-packages (from lvis) (1.19.4)\n",
      "Requirement already satisfied: cycler>=0.10.0 in f:\\projects_local\\dolgonosiki-dataset\\venv\\lib\\site-packages (from lvis) (0.10.0)\n",
      "Requirement already satisfied: kiwisolver>=1.1.0 in f:\\projects_local\\dolgonosiki-dataset\\venv\\lib\\site-packages (from lvis) (1.3.1)\n",
      "Requirement already satisfied: opencv-python>=4.1.0.25 in f:\\projects_local\\dolgonosiki-dataset\\venv\\lib\\site-packages (from lvis) (4.4.0.46)\n",
      "Requirement already satisfied: python-dateutil>=2.8.0 in f:\\projects_local\\dolgonosiki-dataset\\venv\\lib\\site-packages (from lvis) (2.8.1)\n",
      "Requirement already satisfied: six>=1.12.0 in f:\\projects_local\\dolgonosiki-dataset\\venv\\lib\\site-packages (from lvis) (1.15.0)\n",
      "Requirement already satisfied: matplotlib>=3.1.1 in f:\\projects_local\\dolgonosiki-dataset\\venv\\lib\\site-packages (from lvis) (3.3.3)\n",
      "Requirement already satisfied: pillow>=6.2.0 in f:\\projects_local\\dolgonosiki-dataset\\venv\\lib\\site-packages (from matplotlib>=3.1.1->lvis) (8.0.1)\n",
      "Requirement already satisfied: absl-py>=0.2.2 in f:\\projects_local\\dolgonosiki-dataset\\venv\\lib\\site-packages (from tf_slim) (0.11.0)\n",
      "Collecting pandas\n",
      "  Downloading pandas-1.1.5-cp37-cp37m-win_amd64.whl (8.7 MB)\n",
      "Requirement already satisfied: python-dateutil>=2.7.3 in f:\\projects_local\\dolgonosiki-dataset\\venv\\lib\\site-packages (from pandas) (2.8.1)\n",
      "Requirement already satisfied: numpy>=1.15.4 in f:\\projects_local\\dolgonosiki-dataset\\venv\\lib\\site-packages (from pandas) (1.19.4)\n",
      "Requirement already satisfied: six>=1.5 in f:\\projects_local\\dolgonosiki-dataset\\venv\\lib\\site-packages (from python-dateutil>=2.7.3->pandas) (1.15.0)\n",
      "Collecting pytz>=2017.2\n",
      "  Downloading pytz-2020.5-py2.py3-none-any.whl (510 kB)\n",
      "Installing collected packages: pytz, pandas\n",
      "Successfully installed pandas-1.1.5 pytz-2020.5\n"
     ]
    }
   ],
   "source": [
    "# !apt-get update && apt-get install -qq protobuf-compiler python-pil python-lxml python-tk\n",
    "\n",
    "!pip install --upgrade --ignore-installed numpy==1.19.3\n",
    "\n",
    "!pip install -qq Cython contextlib2 pillow lxml matplotlib\n",
    "\n",
    "!pip install -qq pycocotools\n",
    "\n",
    "!pip install tf_slim lvis\n",
    "\n",
    "!pip install pandas\n",
    "\n",
    "!pip install scipy"
   ]
  },
  {
   "cell_type": "code",
   "execution_count": 2,
   "metadata": {},
   "outputs": [
    {
     "output_type": "stream",
     "name": "stdout",
     "text": [
      "f:\\projects_local\\dolgonosiki-dataset\\tf\\models\\research\n"
     ]
    }
   ],
   "source": [
    "\n",
    "# uncomment to skip installing 🐱\n",
    "\n",
    "%cd tf\\models\\research"
   ]
  },
  {
   "cell_type": "code",
   "execution_count": 3,
   "metadata": {},
   "outputs": [
    {
     "output_type": "execute_result",
     "data": {
      "text/plain": [
       "['f:\\\\projects_local\\\\dolgonosiki-dataset',\n",
       " 'c:\\\\Users\\\\mewfo\\\\.vscode\\\\extensions\\\\ms-toolsai.jupyter-2020.12.414227025\\\\pythonFiles',\n",
       " 'c:\\\\Users\\\\mewfo\\\\.vscode\\\\extensions\\\\ms-toolsai.jupyter-2020.12.414227025\\\\pythonFiles\\\\lib\\\\python',\n",
       " 'f:\\\\projects_local\\\\dolgonosiki-dataset\\\\venv\\\\Scripts\\\\python37.zip',\n",
       " 'C:\\\\Users\\\\mewfo\\\\AppData\\\\Local\\\\Programs\\\\Python\\\\Python37\\\\DLLs',\n",
       " 'C:\\\\Users\\\\mewfo\\\\AppData\\\\Local\\\\Programs\\\\Python\\\\Python37\\\\lib',\n",
       " 'C:\\\\Users\\\\mewfo\\\\AppData\\\\Local\\\\Programs\\\\Python\\\\Python37',\n",
       " 'f:\\\\projects_local\\\\dolgonosiki-dataset\\\\venv',\n",
       " '',\n",
       " 'f:\\\\projects_local\\\\dolgonosiki-dataset\\\\venv\\\\lib\\\\site-packages',\n",
       " 'f:\\\\projects_local\\\\dolgonosiki-dataset\\\\venv\\\\lib\\\\site-packages\\\\win32',\n",
       " 'f:\\\\projects_local\\\\dolgonosiki-dataset\\\\venv\\\\lib\\\\site-packages\\\\win32\\\\lib',\n",
       " 'f:\\\\projects_local\\\\dolgonosiki-dataset\\\\venv\\\\lib\\\\site-packages\\\\Pythonwin',\n",
       " 'f:\\\\projects_local\\\\dolgonosiki-dataset\\\\venv\\\\lib\\\\site-packages\\\\IPython\\\\extensions',\n",
       " 'C:\\\\Users\\\\mewfo\\\\.ipython',\n",
       " 'f:\\\\projects_local\\\\dolgonosiki-dataset\\\\tf\\\\models\\\\research',\n",
       " 'f:\\\\projects_local\\\\dolgonosiki-dataset\\\\tf\\\\models\\\\research\\\\object_detection\\\\utils']"
      ]
     },
     "metadata": {},
     "execution_count": 3
    }
   ],
   "source": [
    "# \n",
    "\n",
    "\n",
    "# addinginstalled libraries to PYTHONPATH\n",
    "import sys\n",
    "\n",
    "sys.path.append(os.getcwd())\n",
    "sys.path.append(os.path.join(os.getcwd(), 'object_detection\\\\utils'))\n",
    "\n",
    "sys.path"
   ]
  },
  {
   "cell_type": "code",
   "execution_count": 4,
   "metadata": {},
   "outputs": [
    {
     "output_type": "stream",
     "name": "stdout",
     "text": [
      "f:\\projects_local\\dolgonosiki-dataset\n"
     ]
    }
   ],
   "source": [
    "# Back to start destination\n",
    "\n",
    "%cd ..\\..\\.."
   ]
  },
  {
   "cell_type": "markdown",
   "metadata": {
    "id": "AMlXJ2yIV8e7"
   },
   "source": [
    "## Choosing a pre training model\n",
    "The model used for this project is `ssd_mobilenet_v2_coco`.\n",
    "Check other models from [here](https://github.com/tensorflow/models/blob/master/research/object_detection/g3doc/tf1_detection_zoo.md).\n",
    "\n",
    "Because the interestes of this project is to interfere on real time video, i am chosing a model that has a high inference speed `(ms)` with relativly high `mAP` on COCO"
   ]
  },
  {
   "cell_type": "code",
   "execution_count": 5,
   "metadata": {},
   "outputs": [],
   "source": [
    "\n",
    "\n",
    "# Some models to train on\n",
    "MODELS_CONFIG = {\n",
    "    'ssd_mobilenet_v2': {\n",
    "        'model_name': 'ssd_mobilenet_v2_coco_2018_03_29',\n",
    "        'pipeline_file': 'ssd_mobilenet_v2_coco.config',\n",
    "    },\n",
    "    'faster_rcnn_inception_v2': {\n",
    "        'model_name': 'faster_rcnn_inception_v2_coco_2018_01_28',\n",
    "        'pipeline_file': 'faster_rcnn_inception_v2_pets.config',\n",
    "    },\n",
    "    'rfcn_resnet101': {\n",
    "        'model_name': 'rfcn_resnet101_coco_2018_01_28',\n",
    "        'pipeline_file': 'rfcn_resnet101_pets.config',\n",
    "    }\n",
    "}\n",
    "\n",
    "# Select a model in `MODELS_CONFIG`.\n",
    "# I chose ssd_mobilenet_v2 for this project, you could choose any\n",
    "selected_model = 'ssd_mobilenet_v2'"
   ]
  },
  {
   "cell_type": "markdown",
   "metadata": {
    "id": "ERyocH9U-o2Y"
   },
   "source": [
    "## General imports\n",
    "Other Imports will be done after downloading some packages later."
   ]
  },
  {
   "cell_type": "code",
   "execution_count": 6,
   "metadata": {
    "id": "CEVLeKXh-s23"
   },
   "outputs": [],
   "source": [
    "from __future__ import division, print_function, absolute_import\n",
    "\n",
    "import pandas as pd\n",
    "import numpy as np\n",
    "import csv\n",
    "import re\n",
    "import cv2 \n",
    "import os\n",
    "import glob\n",
    "import xml.etree.ElementTree as ET\n",
    "\n",
    "import io\n",
    "import tensorflow.compat.v1 as tf\n",
    "\n",
    "from PIL import Image\n",
    "from collections import namedtuple, OrderedDict\n",
    "\n",
    "import shutil\n",
    "import urllib.request\n",
    "import tarfile\n",
    "\n",
    "# from google.colab import files"
   ]
  },
  {
   "cell_type": "code",
   "execution_count": 29,
   "metadata": {
    "colab": {
     "base_uri": "https://localhost:8080/"
    },
    "id": "Y8QeHvX6gpmC",
    "outputId": "741566ef-0904-4d75-f9f1-c86db425e9cd"
   },
   "outputs": [
    {
     "output_type": "stream",
     "name": "stdout",
     "text": [
      "1.14.0\n"
     ]
    }
   ],
   "source": [
    "#we need tenorflow v 1.14.0, object detection API is removed from tf v 2.0+\n",
    "print(tf.__version__)"
   ]
  },
  {
   "cell_type": "markdown",
   "metadata": {
    "id": "sOcbTFEiPBKA"
   },
   "source": [
    "## Downloading and Orgniazing Images and Annotations\n",
    "1. Downloading the images and annotations from the [source](https://sci2s.ugr.es/weapons-detection)  and unziping them\n",
    "2. Creating a directory `(data)` to save some data such as; images, annotation, csv, etc...\n",
    "3. Creating two directories; for the training and testing labels (not the images)\n",
    "4. Randomly splitting our labels into 80% training and 20% testing and moving the splits to their directories: `(train_labels)` & `(test_labels)` "
   ]
  },
  {
   "cell_type": "code",
   "execution_count": null,
   "metadata": {
    "id": "0kdBz81I0E4d"
   },
   "outputs": [],
   "source": [
    "# == uncomment this if you need to reset all files/folder structure ==\n",
    "# !rm -rf /content\n",
    "# !mkdir /content\n",
    "# %cd /content\n",
    "# %pwd"
   ]
  },
  {
   "cell_type": "code",
   "execution_count": null,
   "metadata": {
    "colab": {
     "base_uri": "https://localhost:8080/"
    },
    "id": "2QY-CyUQwyZr",
    "outputId": "2c9db3b7-f715-400c-cb0d-7a744d25a238"
   },
   "outputs": [],
   "source": [
    "#creates a directory for the whole project\n",
    "# !mkdir gun_detection"
   ]
  },
  {
   "cell_type": "code",
   "execution_count": null,
   "metadata": {
    "colab": {
     "base_uri": "https://localhost:8080/"
    },
    "id": "CHPQQmhm7RLe",
    "outputId": "55996c80-1959-4f23-8b11-22aa49a7ce89"
   },
   "outputs": [],
   "source": [
    "# cd gun_detection"
   ]
  },
  {
   "cell_type": "code",
   "execution_count": null,
   "metadata": {
    "colab": {
     "base_uri": "https://localhost:8080/"
    },
    "id": "Tp62o3a07UbP",
    "outputId": "4fb26fc3-8a22-497d-a959-f01b22e9343c"
   },
   "outputs": [],
   "source": [
    "# #Training images and annotations\n",
    "\n",
    "# #Source: https://sci2s.ugr.es/weapons-detection\n",
    "\n",
    "\n",
    "# #download the images zip\n",
    "# !wget https://github.com/mewforest/dolgonosiki-dataset/raw/main/images.zip   # <-- 😀 YOUR CUSTOM DATASET IMAGES\n",
    "# # dolgonosik 01.jpg, dolgonosik 02.jpg, ...\n",
    "\n",
    "# #unzip the image file\n",
    "# !unzip -q images.zip\n",
    "\n",
    "# #download the annotations zip\n",
    "# !wget https://github.com/mewforest/dolgonosiki-dataset/raw/main/labels.zip # <-- 😀 YOUR CUSTOM DATASET LABELS (PASCAL VOC)\n",
    "# # dolgonosik 01.xml, dolgonosik 02.xml, ...\n",
    "# #\n",
    "# # You can label your images with labelImg -> https://github.com/tzutalin/labelImg \n",
    "# # \n",
    "# # <?xml version=\"1.0\" encoding=\"utf-8\"?>\n",
    "# # <annotation>\n",
    "# # <folder>dolgonosik</folder>\n",
    "# # <filename>dolgonosik 124</filename>\n",
    "# # <path>E:\\dolgonosik\\images\\dolgonosik 124.jpg</path>\n",
    "# # <source>\n",
    "# # <database>Unknown</database>\n",
    "# # </source>\n",
    "# # <size>\n",
    "# # <width>480</width>\n",
    "# # <height>360</height>\n",
    "# # <depth>3</depth>\n",
    "# # </size>\n",
    "# # <segmented>0</segmented>\n",
    "# # <object>\n",
    "# # <name>dolgonosik</name>\n",
    "# # <pose>Unspecified</pose>\n",
    "# # <truncated>0</truncated>\n",
    "# # <difficult>0</difficult>\n",
    "# # <bndbox>\n",
    "# # <xmin>36</xmin>\n",
    "# # <ymin>104</ymin>\n",
    "# # <xmax>425</xmax>\n",
    "# # <ymax>309</ymax>\n",
    "# # </bndbox>\n",
    "# # </object>\n",
    "# # </annotation>\n",
    "\n",
    "# #unzip the annotations file\n",
    "# !unzip -q labels.zip"
   ]
  },
  {
   "cell_type": "code",
   "execution_count": null,
   "metadata": {
    "colab": {
     "base_uri": "https://localhost:8080/"
    },
    "id": "L0czMMeR8GxW",
    "outputId": "893dd74e-fc2e-442f-8e20-e3b8fba46d27"
   },
   "outputs": [],
   "source": [
    "# # creating a directory to store the training and testing data\n",
    "# !mkdir data\n",
    "\n",
    "# # folders for the training and testing data.\n",
    "# !mkdir data/images data/train_labels data/test_labels\n",
    "\n",
    "\n",
    "# # combining the images and annotation in the training folder:\n",
    "# # moves the images to data folder\n",
    "# !mv images/* data/images\n",
    "\n",
    "# # moves the annotations to data folder\n",
    "# !mv labels/* data/train_labels"
   ]
  },
  {
   "cell_type": "code",
   "execution_count": null,
   "metadata": {
    "id": "Vv8pmB2D80M7"
   },
   "outputs": [],
   "source": [
    "# # Deleting the zipped and unzipped folders \n",
    "# !rm -rf labels.zip  images.zip images/  labels/"
   ]
  },
  {
   "cell_type": "code",
   "execution_count": null,
   "metadata": {
    "id": "PUl-XRwPvj4j"
   },
   "outputs": [],
   "source": [
    "\n",
    "# # lists the files inside 'annotations' in a random order (not really random, by their hash value instead)\n",
    "# # Moves the first 50 (!!!) labels to the testing dir: `test_labels`\n",
    "# !ls data/train_labels/* | sort -R | head -50 | xargs -I{} mv {} data/test_labels"
   ]
  },
  {
   "cell_type": "code",
   "execution_count": null,
   "metadata": {
    "colab": {
     "base_uri": "https://localhost:8080/"
    },
    "id": "pmvDu-rUHz96",
    "outputId": "55d7021e-dbd6-41cc-80d1-b565a2243aa0"
   },
   "outputs": [],
   "source": [
    "# # 2400 \"images\"(xml) for training\n",
    "# !ls data/train_labels/ | wc -l"
   ]
  },
  {
   "cell_type": "code",
   "execution_count": null,
   "metadata": {
    "colab": {
     "base_uri": "https://localhost:8080/"
    },
    "id": "K8y-1_t7wRJc",
    "outputId": "6cbb4f36-838f-401d-8cce-d786cbf613c4"
   },
   "outputs": [],
   "source": [
    "# # 600 \"images\"(xml) for testing\n",
    "# !ls -1 data/test_labels/ | wc -l"
   ]
  },
  {
   "cell_type": "markdown",
   "metadata": {
    "id": "pOfuwfPrPSMz"
   },
   "source": [
    "## Preprocessing Images and Labels\n",
    "1. Converting the annotations from xml files to two csv files for each `train_labels/` and `train_labels/`.\n",
    "2. Creating a pbtxt file that specifies the number of class (one class in this case)\n",
    "3. Checking if the annotations for each object are placed within the range of the image width and height."
   ]
  },
  {
   "cell_type": "code",
   "execution_count": 9,
   "metadata": {},
   "outputs": [
    {
     "output_type": "stream",
     "name": "stdout",
     "text": [
      "f:\\projects_local\\dolgonosiki-dataset\\gun_detection\\data\n"
     ]
    }
   ],
   "source": [
    "%cd gun_detection/data"
   ]
  },
  {
   "cell_type": "code",
   "execution_count": 31,
   "metadata": {
    "colab": {
     "base_uri": "https://localhost:8080/"
    },
    "id": "TBHBFpWyEIDI",
    "outputId": "0282c970-246e-44d1-9ab6-70ee783194ab"
   },
   "outputs": [
    {
     "output_type": "stream",
     "name": "stdout",
     "text": [
      "f:\\projects_local\\dolgonosiki-dataset\\gun_detection\\data\n",
      "Successfully converted train_labels xml to csv.\n",
      "Successfully converted test_labels xml to csv.\n"
     ]
    }
   ],
   "source": [
    "\n",
    "#adjusted from: https://github.com/datitran/raccoon_dataset\n",
    "\n",
    "#converts the annotations/labels into one csv file for each training and testing labels\n",
    "#creats label_map.pbtxt file\n",
    "\n",
    "\n",
    "\n",
    "\n",
    "# images extension\n",
    "images_extension = 'jpg'\n",
    "\n",
    "# takes the path of a directory that contains xml files and converts\n",
    "#  them to one csv file.\n",
    "\n",
    "# returns a csv file that contains: image name, width, height, class, xmin, ymin, xmax, ymax.\n",
    "# note: if the xml file contains more than one box/label, it will create more than one row for the same image. each row contains the info for an individual box. \n",
    "def xml_to_csv(path):\n",
    "  classes_names = []\n",
    "  xml_list = []\n",
    "\n",
    "  for xml_file in glob.glob(path + '/*.xml'):\n",
    "    tree = ET.parse(xml_file)\n",
    "    root = tree.getroot()\n",
    "    for member in root.findall('object'):\n",
    "      classes_names.append(member[0].text)\n",
    "      value = (root.find('filename').text + '.' + images_extension,\n",
    "               int(root.find('size')[0].text),\n",
    "               int(root.find('size')[1].text),\n",
    "               member[0].text,\n",
    "               int(member[4][0].text),\n",
    "               int(member[4][1].text),\n",
    "               int(member[4][2].text),\n",
    "               int(member[4][3].text))\n",
    "      xml_list.append(value)\n",
    "  column_name = ['filename', 'width', 'height', 'class', 'xmin', 'ymin', 'xmax', 'ymax']\n",
    "  xml_df = pd.DataFrame(xml_list, columns=column_name) \n",
    "  classes_names = list(set(classes_names))\n",
    "  classes_names.sort()\n",
    "  return xml_df, classes_names\n",
    "\n",
    "# for both the train_labels and test_labels csv files, it runs the xml_to_csv() above.\n",
    "for label_path in ['train_labels', 'test_labels']:\n",
    "  image_path = os.path.join(os.getcwd(), label_path)\n",
    "  xml_df, classes = xml_to_csv(label_path)\n",
    "  xml_df.to_csv(f'{label_path}.csv', index=None)\n",
    "  print(f'Successfully converted {label_path} xml to csv.')\n",
    "\n",
    "# Creating the `label_map.pbtxt` file\n",
    "label_map_path = os.path.join(\"label_map.pbtxt\")\n",
    "\n",
    "pbtxt_content = \"\"\n",
    "\n",
    "#creats a pbtxt file the has the class names.\n",
    "for i, class_name in enumerate(classes):\n",
    "    # display_name is optional.\n",
    "    pbtxt_content = (\n",
    "        pbtxt_content\n",
    "        + \"item {{\\n    id: {0}\\n    name: '{1}'\\n    display_name: 'Dolgonosik'\\n }}\\n\\n\".format(i + 1, class_name)  # <-- 😀 CHANGE HERE DISPLAY NAME :)\n",
    "    )\n",
    "pbtxt_content = pbtxt_content.strip()\n",
    "with open(label_map_path, \"w\") as f:\n",
    "    f.write(pbtxt_content)\n"
   ]
  },
  {
   "cell_type": "code",
   "execution_count": 33,
   "metadata": {
    "colab": {
     "base_uri": "https://localhost:8080/"
    },
    "id": "rtfjZcD-CCdM",
    "outputId": "393c7a17-452f-4018-f9af-ca3ac45e9fe6"
   },
   "outputs": [
    {
     "output_type": "stream",
     "name": "stdout",
     "text": [
      "item {\n    id: 1\n    name: 'dolgonosik'\n    display_name: 'Dolgonosik'\n }\n"
     ]
    }
   ],
   "source": [
    "#checking the pbtxt file\n",
    "!type label_map.pbtxt"
   ]
  },
  {
   "cell_type": "code",
   "execution_count": 38,
   "metadata": {
    "colab": {
     "base_uri": "https://localhost:8080/"
    },
    "id": "yP8gohagKFXn",
    "outputId": "e2613c1b-d283-43a9-c378-662e19c987ed"
   },
   "outputs": [
    {
     "output_type": "stream",
     "name": "stdout",
     "text": [
      " ��� � ���ன�⢥ F �� ����� ��⪨.\n ��਩�� ����� ⮬�: C8B7-EED0\n\n ����ন��� ����� f:\\projects_local\\dolgonosiki-dataset\\gun_detection\\data\n\n25.12.2020  16:21    <DIR>          .\n25.12.2020  16:21    <DIR>          ..\n25.12.2020  02:36    <DIR>          images\n25.12.2020  16:21                77 label_map.pbtxt\n25.12.2020  02:36    <DIR>          test_labels\n25.12.2020  16:21             2�986 test_labels.csv\n25.12.2020  02:36    <DIR>          train_labels\n25.12.2020  16:21             7�653 train_labels.csv\n               3 䠩���         10�716 ����\n               5 �����  126�124�650�496 ���� ᢮�����\n"
     ]
    }
   ],
   "source": [
    "# they are there!\n",
    "! dir"
   ]
  },
  {
   "cell_type": "code",
   "execution_count": 39,
   "metadata": {
    "colab": {
     "base_uri": "https://localhost:8080/"
    },
    "id": "L4p7J6mFLLZf",
    "outputId": "5cd55085-8974-4fd1-f41f-d8d38806b607"
   },
   "outputs": [
    {
     "output_type": "stream",
     "name": "stdout",
     "text": [
      "[*] Checking file: train_labels.csv\n",
      "Could not read image None  from  images\\dolgonosik 19.jpg\n",
      "\n",
      "Checked 139 files and realized 1 errors\n",
      "-----\n",
      "[*] Checking file: test_labels.csv\n",
      "\n",
      "Checked 55 files and realized 0 errors\n",
      "-----\n"
     ]
    }
   ],
   "source": [
    "#checks if the images box position is placed within the image.\n",
    "\n",
    "#note: while this doesn't checks if the boxes/annotatoins are correctly\n",
    "# placed around the object, Tensorflow will through an error if this occured.\n",
    "# path to images\n",
    "images_path = 'images'\n",
    "\n",
    "#loops over both train_labels and test_labels csv files to do the check\n",
    "# returns the image name where an error is found \n",
    "# return the incorrect attributes; xmin, ymin, xmax, ymax.\n",
    "for CSV_FILE in ['train_labels.csv', 'test_labels.csv']:\n",
    "  with open(CSV_FILE, 'r') as fid:  \n",
    "      print('[*] Checking file:', CSV_FILE) \n",
    "      file = csv.reader(fid, delimiter=',')\n",
    "      first = True \n",
    "      cnt = 0\n",
    "      error_cnt = 0\n",
    "      error = False\n",
    "      for row in file:\n",
    "          if error == True:\n",
    "              error_cnt += 1\n",
    "              error = False         \n",
    "          if first == True:\n",
    "              first = False\n",
    "              continue     \n",
    "          cnt += 1      \n",
    "          name, width, height, xmin, ymin, xmax, ymax = row[0], int(row[1]), int(row[2]), int(row[4]), int(row[5]), int(row[6]), int(row[7])     \n",
    "          path = os.path.join(images_path, name)\n",
    "          img = cv2.imread(path)         \n",
    "          if type(img) == type(None):\n",
    "              error = True\n",
    "              print('Could not read image', img, ' from ', path)\n",
    "              continue     \n",
    "          org_height, org_width = img.shape[:2]     \n",
    "          if org_width != width:\n",
    "              error = True\n",
    "              print('Width mismatch for image: ', name, width, '!=', org_width)     \n",
    "          if org_height != height:\n",
    "              error = True\n",
    "              print('Height mismatch for image: ', name, height, '!=', org_height) \n",
    "          if xmin > org_width:\n",
    "              error = True\n",
    "              print('XMIN > org_width for file', name)  \n",
    "          if xmax > org_width:\n",
    "              error = True\n",
    "              print('XMAX > org_width for file', name)\n",
    "          if ymin > org_height:\n",
    "              error = True\n",
    "              print('YMIN > org_height for file', name)\n",
    "          if ymax > org_height:\n",
    "              error = True\n",
    "              print('YMAX > org_height for file', name)\n",
    "          if error == True:\n",
    "              print('Error for file: %s' % name)\n",
    "              print()\n",
    "      print()\n",
    "      print('Checked %d files and realized %d errors' % (cnt, error_cnt))\n",
    "      print(\"-----\")"
   ]
  },
  {
   "cell_type": "code",
   "execution_count": 46,
   "metadata": {
    "id": "vD5luKTsMx7F"
   },
   "outputs": [
    {
     "output_type": "stream",
     "name": "stderr",
     "text": [
      "�� 㤠���� ���� f:\\projects_local\\dolgonosiki-dataset\\gun_detection\\data\\images\\dolgonosik 19.jpg\n"
     ]
    }
   ],
   "source": [
    "#we have only one image with incorrect box position, we could just remove it \n",
    "#removing the image \n",
    "!del \"images\\dolgonosik 19.jpg\""
   ]
  },
  {
   "cell_type": "code",
   "execution_count": 48,
   "metadata": {
    "id": "ze4z9bW3ZjhC"
   },
   "outputs": [],
   "source": [
    "#removing the entry for it in the csv for that image as well\n",
    "\n",
    "#because we did a random split for the data, we dont know if it ended up being in training or testing\n",
    "# we will remove the image from both.\n",
    "\n",
    "#training\n",
    "#reading the training csv\n",
    "df = pd.read_csv('train_labels.csv')\n",
    "# removing dolgonosik 19.jpg\n",
    "df = df[df['filename'] != 'dolgonosik 19.jpg']\n",
    "#reseting the index\n",
    "df.reset_index(drop=True, inplace=True)\n",
    "#saving the df\n",
    "df.to_csv('train_labels.csv')\n",
    "\n",
    "\n",
    "#testing\n",
    "#reading the testing csv\n",
    "df = pd.read_csv('test_labels.csv')\n",
    "# removing dolgonosik 19.jpg\n",
    "df = df[df['filename'] != 'dolgonosik 19.jpg']\n",
    "#reseting the index\n",
    "df.reset_index(drop=True, inplace=True)\n",
    "#saving the df\n",
    "df.to_csv('test_labels.csv')\n",
    "\n",
    "# Just for the memory\n",
    "df = None\n"
   ]
  },
  {
   "cell_type": "markdown",
   "metadata": {
    "id": "A_tyvKnBP6qD"
   },
   "source": [
    "## Downloading and Preparing Tensorflow model\n",
    "1. Cloning [Tensorflow models](https://github.com/tensorflow/models.git) from the offical git repo. The repo contains the object detection API we are interseted in. \n",
    "2. Compiling the protos and adding folders to the os environment.\n",
    "3. Testing the model builder."
   ]
  },
  {
   "cell_type": "code",
   "execution_count": null,
   "metadata": {
    "colab": {
     "base_uri": "https://localhost:8080/"
    },
    "id": "IIxz1GqJQA3f",
    "outputId": "874da480-6be3-43d4-819e-34a04d0f96cc"
   },
   "outputs": [],
   "source": [
    "# # Downlaods Tenorflow\n",
    "# %cd /content/gun_detection/\n",
    "# !git clone --q https://github.com/tensorflow/models.git"
   ]
  },
  {
   "cell_type": "code",
   "execution_count": null,
   "metadata": {
    "colab": {
     "base_uri": "https://localhost:8080/"
    },
    "id": "tjcAhsxRQ5N1",
    "outputId": "8c431615-f3a4-4d77-e7a6-f53e853c641d"
   },
   "outputs": [],
   "source": [
    "# %cd /content/gun_detection/models/research\n",
    "# #compiling the proto buffers (not important to understand for this project but you can learn more about them here: https://developers.google.com/protocol-buffers/)\n",
    "# !protoc object_detection/protos/*.proto --python_out=.\n",
    "\n",
    "# # exports the PYTHONPATH environment variable with the reasearch and slim folders' paths\n",
    "# os.environ['PYTHONPATH'] += ':/content/gun_detection/models/research/:/content/gun_detection/models/research/slim/'"
   ]
  },
  {
   "cell_type": "code",
   "execution_count": null,
   "metadata": {
    "id": "3bMNsrwTSJi2"
   },
   "outputs": [],
   "source": [
    "# testing the model builder\n",
    "# !python3 object_detection/builders/model_builder_test.py"
   ]
  },
  {
   "cell_type": "markdown",
   "metadata": {
    "id": "t9C3L_r4Pi6m"
   },
   "source": [
    "## Generating Tf record\n",
    "- Generating two TFRecords files for the training and testing CSVs.\n",
    "- Tensorflow accepts the data as tfrecords which is a binary file that run fast with low memory usage. Instead of loading the full data into memory, Tenorflow breaks the data into batches using these TFRecords automatically"
   ]
  },
  {
   "cell_type": "code",
   "execution_count": 52,
   "metadata": {},
   "outputs": [
    {
     "output_type": "execute_result",
     "data": {
      "text/plain": [
       "'f:\\\\projects_local\\\\dolgonosiki-dataset\\\\gun_detection\\\\data'"
      ]
     },
     "metadata": {},
     "execution_count": 52
    }
   ],
   "source": [
    "# %cd data\n",
    "# %pwd\n",
    "\n",
    "# os.getcwd()"
   ]
  },
  {
   "cell_type": "code",
   "execution_count": 55,
   "metadata": {
    "colab": {
     "base_uri": "https://localhost:8080/"
    },
    "id": "nK2unk-9LB_E",
    "outputId": "5149a8fd-ad59-47c5-fb11-0b5326101dbe"
   },
   "outputs": [
    {
     "output_type": "stream",
     "name": "stdout",
     "text": [
      "Successfully created the TFRecords: f:\\projects_local\\dolgonosiki-dataset\\gun_detection\\datatrain_labels.record\n",
      "Successfully created the TFRecords: f:\\projects_local\\dolgonosiki-dataset\\gun_detection\\datatest_labels.record\n"
     ]
    }
   ],
   "source": [
    "#adjusted from: https://github.com/datitran/raccoon_dataset\n",
    "\n",
    "# converts the csv files for training and testing data to two TFRecords files.\n",
    "# places the output in the same directory as the input\n",
    "\n",
    "\n",
    "from object_detection.utils import dataset_util\n",
    "# %cd /content/gun_detection/models/\n",
    "\n",
    "DATA_BASE_PATH = os.getcwd()\n",
    "image_dir = os.path.join(DATA_BASE_PATH, 'images')\n",
    "\n",
    "# 😀 labelmap.pbtxt\n",
    "#\n",
    "# item {\n",
    "#     id: 1 <--copy this to returning value\n",
    "#     name: 'dolgonosik'  <--copy this to row label\n",
    "#     display_name: 'Dolgonosik'\n",
    "#  }\n",
    "def class_text_to_int(row_label):\n",
    "\t\tif row_label == 'dolgonosik':\n",
    "\t\t\t\treturn 1\n",
    "\t\telse:\n",
    "\t\t\t\tNone\n",
    "\n",
    "\n",
    "def split(df, group):\n",
    "\t\tdata = namedtuple('data', ['filename', 'object'])\n",
    "\t\tgb = df.groupby(group)\n",
    "\t\treturn [data(filename, gb.get_group(x)) for filename, x in zip(gb.groups.keys(), gb.groups)]\n",
    "\n",
    "def create_tf_example(group, path):\n",
    "\t\twith tf.io.gfile.GFile(os.path.join(path, '{}'.format(group.filename)), 'rb') as fid:\n",
    "\t\t\t\tencoded_jpg = fid.read()\n",
    "\t\tencoded_jpg_io = io.BytesIO(encoded_jpg)\n",
    "\t\timage = Image.open(encoded_jpg_io)\n",
    "\t\twidth, height = image.size\n",
    "\n",
    "\t\tfilename = group.filename.encode('utf8')\n",
    "\t\timage_format = b'jpg'\n",
    "\t\txmins = []\n",
    "\t\txmaxs = []\n",
    "\t\tymins = []\n",
    "\t\tymaxs = []\n",
    "\t\tclasses_text = []\n",
    "\t\tclasses = []\n",
    "\n",
    "\t\tfor index, row in group.object.iterrows():\n",
    "\t\t\t\txmins.append(row['xmin'] / width)\n",
    "\t\t\t\txmaxs.append(row['xmax'] / width)\n",
    "\t\t\t\tymins.append(row['ymin'] / height)\n",
    "\t\t\t\tymaxs.append(row['ymax'] / height)\n",
    "\t\t\t\tclasses_text.append(row['class'].encode('utf8'))\n",
    "\t\t\t\tclasses.append(class_text_to_int(row['class']))\n",
    "\n",
    "\t\ttf_example = tf.train.Example(features=tf.train.Features(feature={\n",
    "\t\t\t\t'image/height': dataset_util.int64_feature(height),\n",
    "\t\t\t\t'image/width': dataset_util.int64_feature(width),\n",
    "\t\t\t\t'image/filename': dataset_util.bytes_feature(filename),\n",
    "\t\t\t\t'image/source_id': dataset_util.bytes_feature(filename),\n",
    "\t\t\t\t'image/encoded': dataset_util.bytes_feature(encoded_jpg),\n",
    "\t\t\t\t'image/format': dataset_util.bytes_feature(image_format),\n",
    "\t\t\t\t'image/object/bbox/xmin': dataset_util.float_list_feature(xmins),\n",
    "\t\t\t\t'image/object/bbox/xmax': dataset_util.float_list_feature(xmaxs),\n",
    "\t\t\t\t'image/object/bbox/ymin': dataset_util.float_list_feature(ymins),\n",
    "\t\t\t\t'image/object/bbox/ymax': dataset_util.float_list_feature(ymaxs),\n",
    "\t\t\t\t'image/object/class/text': dataset_util.bytes_list_feature(classes_text),\n",
    "\t\t\t\t'image/object/class/label': dataset_util.int64_list_feature(classes),\n",
    "\t\t}))\n",
    "\t\treturn tf_example\n",
    "\n",
    "for csv in ['train_labels', 'test_labels']:\n",
    "  writer = tf.io.TFRecordWriter(os.path.join(DATA_BASE_PATH, csv + '.record'))\n",
    "  path = os.path.join(image_dir)\n",
    "  examples = pd.read_csv(os.path.join(DATA_BASE_PATH, csv + '.csv'))\n",
    "  grouped = split(examples, 'filename')\n",
    "  for group in grouped:\n",
    "      tf_example = create_tf_example(group, path)\n",
    "      writer.write(tf_example.SerializeToString())\n",
    "    \n",
    "  writer.close()\n",
    "  output_path = os.path.join(os.getcwd(), DATA_BASE_PATH + csv + '.record')\n",
    "  print('Successfully created the TFRecords: {}'.format(DATA_BASE_PATH +csv + '.record'))\n"
   ]
  },
  {
   "cell_type": "code",
   "execution_count": null,
   "metadata": {
    "colab": {
     "base_uri": "https://localhost:8080/"
    },
    "id": "i1zRJducWs-X",
    "outputId": "5ad478f2-dc91-46eb-b42d-24aff0c36027"
   },
   "outputs": [],
   "source": [
    "# TFRecords are created\n",
    "# !ls -lX /content/gun_detection/data/"
   ]
  },
  {
   "cell_type": "markdown",
   "metadata": {
    "id": "xMckMSJqFMyc"
   },
   "source": [
    "## Downloading the Base Model\n",
    "1. Based on the model selecting at the top of this notebook, downloading the model selected and extracting its content.\n",
    "2. Creating a dir to save the model while training."
   ]
  },
  {
   "cell_type": "code",
   "execution_count": 10,
   "metadata": {},
   "outputs": [
    {
     "output_type": "stream",
     "name": "stdout",
     "text": [
      "f:\\projects_local\\dolgonosiki-dataset\\tf\\models\\research\n"
     ]
    }
   ],
   "source": [
    "# %cd /content/gun_detection/models/research\n",
    "%cd ..\\..\\tf\\models\\research"
   ]
  },
  {
   "cell_type": "code",
   "execution_count": 11,
   "metadata": {
    "colab": {
     "base_uri": "https://localhost:8080/"
    },
    "id": "UvN9Cw65FQzB",
    "outputId": "3bd4493f-3b1b-4c06-dca1-90423e6dea4a"
   },
   "outputs": [],
   "source": [
    "\n",
    "\n",
    "\n",
    "# Name of the object detection model to use.\n",
    "MODEL = MODELS_CONFIG[selected_model]['model_name']\n",
    "\n",
    "# Name of the pipline file in tensorflow object detection API.\n",
    "pipeline_file = MODELS_CONFIG[selected_model]['pipeline_file']\n",
    "\n",
    "#selecting the model\n",
    "MODEL_FILE = MODEL + '.tar.gz'\n",
    "\n",
    "#creating the downlaod link for the model selected\n",
    "DOWNLOAD_BASE = 'http://download.tensorflow.org/models/object_detection/'\n",
    "\n",
    "#the distination folder where the model will be saved\n",
    "fine_tune_dir = os.path.join(os.getcwd(), 'pretrained_model')\n",
    "\n",
    "#checks if the model has already been downloaded\n",
    "if not (os.path.exists(MODEL_FILE)):\n",
    "    urllib.request.urlretrieve(DOWNLOAD_BASE + MODEL_FILE, MODEL_FILE)\n",
    "\n",
    "#unzipping the file and extracting its content\n",
    "tar = tarfile.open(MODEL_FILE)\n",
    "tar.extractall()\n",
    "tar.close()\n",
    "\n",
    "# creating an output file to save the model while training\n",
    "os.remove(MODEL_FILE)\n",
    "if (os.path.exists(fine_tune_dir)):\n",
    "    shutil.rmtree(fine_tune_dir)\n",
    "os.rename(MODEL, fine_tune_dir)"
   ]
  },
  {
   "cell_type": "code",
   "execution_count": 12,
   "metadata": {
    "colab": {
     "base_uri": "https://localhost:8080/"
    },
    "id": "pbjXKVMmFk47",
    "outputId": "33d611d1-8d68-4484-b915-c48fa3c95fad"
   },
   "outputs": [
    {
     "output_type": "stream",
     "name": "stdout",
     "text": [
      "f:\\projects_local\\dolgonosiki-dataset\\tf\\models\\research\\pretrained_model\n"
     ]
    }
   ],
   "source": [
    "#checking the content of the pretrained model.\n",
    "# this is the directory of the \"fine_tune_checkpoint\" that is used in the config file.\n",
    "!echo {fine_tune_dir}\n",
    "# !ls -alh {fine_tune_dir}"
   ]
  },
  {
   "cell_type": "markdown",
   "metadata": {
    "id": "HnjQgJZiGAcA"
   },
   "source": [
    "## Configuring the Training Pipeline\n",
    "1. Adding the path for the TFRecords files and pbtxt,batch_size,num_steps,num_classes to the configuration file.\n",
    "2. Adding some Image augmentation.\n",
    "3. Creating a directory to save the model at each checkpoint while training. "
   ]
  },
  {
   "cell_type": "code",
   "execution_count": 13,
   "metadata": {
    "colab": {
     "base_uri": "https://localhost:8080/",
     "height": 35
    },
    "id": "az14XVo31Ujp",
    "outputId": "cefdec26-25b8-4157-89a9-df1a659b95b5"
   },
   "outputs": [
    {
     "output_type": "execute_result",
     "data": {
      "text/plain": [
       "'f:\\\\projects_local\\\\dolgonosiki-dataset\\\\tf\\\\models\\\\research\\\\object_detection\\\\samples\\\\configs\\\\ssd_mobilenet_v2_coco.config'"
      ]
     },
     "metadata": {},
     "execution_count": 13
    }
   ],
   "source": [
    "\n",
    "#the path to the folder containing all the sample config files\n",
    "CONFIG_BASE = os.path.join(os.getcwd(), \"object_detection\\\\samples\\\\configs\")\n",
    "\n",
    "#path to the specified model's config file\n",
    "model_pipline = os.path.join(CONFIG_BASE, pipeline_file)\n",
    "model_pipline"
   ]
  },
  {
   "cell_type": "code",
   "execution_count": 14,
   "metadata": {},
   "outputs": [
    {
     "output_type": "execute_result",
     "data": {
      "text/plain": [
       "'f:\\\\projects_local\\\\dolgonosiki-dataset\\\\tf\\\\models\\\\research'"
      ]
     },
     "metadata": {},
     "execution_count": 14
    }
   ],
   "source": [
    "%pwd"
   ]
  },
  {
   "cell_type": "code",
   "execution_count": 15,
   "metadata": {
    "colab": {
     "base_uri": "https://localhost:8080/"
    },
    "id": "VT3m6pbXpN_M",
    "outputId": "8943ebf0-3901-45a2-ece7-05b3f5f245e1"
   },
   "outputs": [
    {
     "output_type": "stream",
     "name": "stdout",
     "text": [
      "# SSD with Mobilenet v2 configuration for MSCOCO Dataset.\n",
      "# Users should configure the fine_tune_checkpoint field in the train config as\n",
      "# well as the label_map_path and input_path fields in the train_input_reader and\n",
      "# eval_input_reader. Search for \"PATH_TO_BE_CONFIGURED\" to find the fields that\n",
      "# should be configured.\n",
      "\n",
      "model {\n",
      "  ssd {\n",
      "    num_classes: 90\n",
      "    box_coder {\n",
      "      faster_rcnn_box_coder {\n",
      "        y_scale: 10.0\n",
      "        x_scale: 10.0\n",
      "        height_scale: 5.0\n",
      "        width_scale: 5.0\n",
      "      }\n",
      "    }\n",
      "    matcher {\n",
      "      argmax_matcher {\n",
      "        matched_threshold: 0.5\n",
      "        unmatched_threshold: 0.5\n",
      "        ignore_thresholds: false\n",
      "        negatives_lower_than_unmatched: true\n",
      "        force_match_for_each_row: true\n",
      "      }\n",
      "    }\n",
      "    similarity_calculator {\n",
      "      iou_similarity {\n",
      "      }\n",
      "    }\n",
      "    anchor_generator {\n",
      "      ssd_anchor_generator {\n",
      "        num_layers: 6\n",
      "        min_scale: 0.2\n",
      "        max_scale: 0.95\n",
      "        aspect_ratios: 1.0\n",
      "        aspect_ratios: 2.0\n",
      "        aspect_ratios: 0.5\n",
      "        aspect_ratios: 3.0\n",
      "        aspect_ratios: 0.3333\n",
      "      }\n",
      "    }\n",
      "    image_resizer {\n",
      "      fixed_shape_resizer {\n",
      "        height: 300\n",
      "        width: 300\n",
      "      }\n",
      "    }\n",
      "    box_predictor {\n",
      "      convolutional_box_predictor {\n",
      "        min_depth: 0\n",
      "        max_depth: 0\n",
      "        num_layers_before_predictor: 0\n",
      "        use_dropout: false\n",
      "        dropout_keep_probability: 0.8\n",
      "        kernel_size: 1\n",
      "        box_code_size: 4\n",
      "        apply_sigmoid_to_scores: false\n",
      "        conv_hyperparams {\n",
      "          activation: RELU_6,\n",
      "          regularizer {\n",
      "            l2_regularizer {\n",
      "              weight: 0.00004\n",
      "            }\n",
      "          }\n",
      "          initializer {\n",
      "            truncated_normal_initializer {\n",
      "              stddev: 0.03\n",
      "              mean: 0.0\n",
      "            }\n",
      "          }\n",
      "          batch_norm {\n",
      "            train: true,\n",
      "            scale: true,\n",
      "            center: true,\n",
      "            decay: 0.9997,\n",
      "            epsilon: 0.001,\n",
      "          }\n",
      "        }\n",
      "      }\n",
      "    }\n",
      "    feature_extractor {\n",
      "      type: 'ssd_mobilenet_v2'\n",
      "      min_depth: 16\n",
      "      depth_multiplier: 1.0\n",
      "      conv_hyperparams {\n",
      "        activation: RELU_6,\n",
      "        regularizer {\n",
      "          l2_regularizer {\n",
      "            weight: 0.00004\n",
      "          }\n",
      "        }\n",
      "        initializer {\n",
      "          truncated_normal_initializer {\n",
      "            stddev: 0.03\n",
      "            mean: 0.0\n",
      "          }\n",
      "        }\n",
      "        batch_norm {\n",
      "          train: true,\n",
      "          scale: true,\n",
      "          center: true,\n",
      "          decay: 0.9997,\n",
      "          epsilon: 0.001,\n",
      "        }\n",
      "      }\n",
      "    }\n",
      "    loss {\n",
      "      classification_loss {\n",
      "        weighted_sigmoid {\n",
      "        }\n",
      "      }\n",
      "      localization_loss {\n",
      "        weighted_smooth_l1 {\n",
      "        }\n",
      "      }\n",
      "      hard_example_miner {\n",
      "        num_hard_examples: 3000\n",
      "        iou_threshold: 0.99\n",
      "        loss_type: CLASSIFICATION\n",
      "        max_negatives_per_positive: 3\n",
      "        min_negatives_per_image: 3\n",
      "      }\n",
      "      classification_weight: 1.0\n",
      "      localization_weight: 1.0\n",
      "    }\n",
      "    normalize_loss_by_num_matches: true\n",
      "    post_processing {\n",
      "      batch_non_max_suppression {\n",
      "        score_threshold: 1e-8\n",
      "        iou_threshold: 0.6\n",
      "        max_detections_per_class: 100\n",
      "        max_total_detections: 100\n",
      "      }\n",
      "      score_converter: SIGMOID\n",
      "    }\n",
      "  }\n",
      "}\n",
      "\n",
      "train_config: {\n",
      "  batch_size: 24\n",
      "  optimizer {\n",
      "    rms_prop_optimizer: {\n",
      "      learning_rate: {\n",
      "        exponential_decay_learning_rate {\n",
      "          initial_learning_rate: 0.004\n",
      "          decay_steps: 800720\n",
      "          decay_factor: 0.95\n",
      "        }\n",
      "      }\n",
      "      momentum_optimizer_value: 0.9\n",
      "      decay: 0.9\n",
      "      epsilon: 1.0\n",
      "    }\n",
      "  }\n",
      "  fine_tune_checkpoint: \"PATH_TO_BE_CONFIGURED/model.ckpt\"\n",
      "  fine_tune_checkpoint_type:  \"detection\"\n",
      "  # Note: The below line limits the training process to 200K steps, which we\n",
      "  # empirically found to be sufficient enough to train the pets dataset. This\n",
      "  # effectively bypasses the learning rate schedule (the learning rate will\n",
      "  # never decay). Remove the below line to train indefinitely.\n",
      "  num_steps: 200000\n",
      "  data_augmentation_options {\n",
      "    random_horizontal_flip {\n",
      "    }\n",
      "  }\n",
      "  data_augmentation_options {\n",
      "    ssd_random_crop {\n",
      "    }\n",
      "  }\n",
      "}\n",
      "\n",
      "train_input_reader: {\n",
      "  tf_record_input_reader {\n",
      "    input_path: \"PATH_TO_BE_CONFIGURED/mscoco_train.record-?????-of-00100\"\n",
      "  }\n",
      "  label_map_path: \"PATH_TO_BE_CONFIGURED/mscoco_label_map.pbtxt\"\n",
      "}\n",
      "\n",
      "eval_config: {\n",
      "  num_examples: 8000\n",
      "  # Note: The below line limits the evaluation process to 10 evaluations.\n",
      "  # Remove the below line to evaluate indefinitely.\n",
      "  max_evals: 10\n",
      "}\n",
      "\n",
      "eval_input_reader: {\n",
      "  tf_record_input_reader {\n",
      "    input_path: \"PATH_TO_BE_CONFIGURED/mscoco_val.record-?????-of-00010\"\n",
      "  }\n",
      "  label_map_path: \"PATH_TO_BE_CONFIGURED/mscoco_label_map.pbtxt\"\n",
      "  shuffle: false\n",
      "  num_readers: 1\n",
      "}\n"
     ]
    }
   ],
   "source": [
    "#check the sample config file that is provided by the tf model\n",
    "!type object_detection\\samples\\configs\\ssd_mobilenet_v2_coco.config"
   ]
  },
  {
   "cell_type": "code",
   "execution_count": null,
   "metadata": {
    "colab": {
     "base_uri": "https://localhost:8080/"
    },
    "id": "Kfsl5CsDGY3-",
    "outputId": "7dc2e639-c5cc-476a-8e37-97894a922f5c"
   },
   "outputs": [],
   "source": [
    "#editing the configuration file to add the path for the TFRecords files, pbtxt,batch_size,num_steps,num_classes.\n",
    "# any image augmentation, hyperparemeter tunning (drop out, batch normalization... etc) would be editted here\n",
    "\n",
    "%%writefile {model_pipline}\n",
    "model {\n",
    "  ssd {\n",
    "    num_classes: 1 # number of classes to be detected\n",
    "    box_coder {\n",
    "      faster_rcnn_box_coder {\n",
    "        y_scale: 10.0\n",
    "        x_scale: 10.0\n",
    "        height_scale: 5.0\n",
    "        width_scale: 5.0\n",
    "      }\n",
    "    }\n",
    "    matcher {\n",
    "      argmax_matcher {\n",
    "        matched_threshold: 0.5\n",
    "        unmatched_threshold: 0.5\n",
    "        ignore_thresholds: false\n",
    "        negatives_lower_than_unmatched: true\n",
    "        force_match_for_each_row: true\n",
    "      }\n",
    "    }\n",
    "    similarity_calculator {\n",
    "      iou_similarity {\n",
    "      }\n",
    "    }\n",
    "    anchor_generator {\n",
    "      ssd_anchor_generator {\n",
    "        num_layers: 6\n",
    "        min_scale: 0.2\n",
    "        max_scale: 0.95\n",
    "        aspect_ratios: 1.0\n",
    "        aspect_ratios: 2.0\n",
    "        aspect_ratios: 0.5\n",
    "        aspect_ratios: 3.0\n",
    "        aspect_ratios: 0.3333\n",
    "      }\n",
    "    }\n",
    "    # all images will be resized to the below W x H.\n",
    "    image_resizer { \n",
    "      fixed_shape_resizer {\n",
    "        height: 300\n",
    "        width: 300\n",
    "      }\n",
    "    }\n",
    "    box_predictor {\n",
    "      convolutional_box_predictor {\n",
    "        min_depth: 0\n",
    "        max_depth: 0\n",
    "        num_layers_before_predictor: 0\n",
    "        #use_dropout: false\n",
    "        use_dropout: true # to counter over fitting. you can also try tweaking its probability below\n",
    "        dropout_keep_probability: 0.8\n",
    "        kernel_size: 1\n",
    "        box_code_size: 4\n",
    "        apply_sigmoid_to_scores: false\n",
    "        conv_hyperparams {\n",
    "          activation: RELU_6,\n",
    "          regularizer {\n",
    "            l2_regularizer {\n",
    "            # weight: 0.00004\n",
    "            weight: 0.001 # higher regularizition to counter overfitting\n",
    "          }\n",
    "          }\n",
    "          initializer {\n",
    "            truncated_normal_initializer {\n",
    "              stddev: 0.03\n",
    "              mean: 0.0\n",
    "            }\n",
    "          }\n",
    "          batch_norm {\n",
    "            train: true,\n",
    "            scale: true,\n",
    "            center: true,\n",
    "            decay: 0.9997,\n",
    "            epsilon: 0.001,\n",
    "          }\n",
    "        }\n",
    "      }\n",
    "    }\n",
    "    feature_extractor {\n",
    "      type: 'ssd_mobilenet_v2'\n",
    "      min_depth: 16\n",
    "      depth_multiplier: 1.0\n",
    "      conv_hyperparams {\n",
    "        activation: RELU_6,\n",
    "        regularizer {\n",
    "          l2_regularizer {\n",
    "            # weight: 0.00004\n",
    "            weight: 0.001 # higher regularizition to counter overfitting\n",
    "          }\n",
    "        }\n",
    "        initializer {\n",
    "          truncated_normal_initializer {\n",
    "            stddev: 0.03\n",
    "            mean: 0.0\n",
    "          }\n",
    "        }\n",
    "        batch_norm {\n",
    "          train: true,\n",
    "          scale: true,\n",
    "          center: true,\n",
    "          decay: 0.9997,\n",
    "          epsilon: 0.001,\n",
    "        }\n",
    "      }\n",
    "    }\n",
    "    loss {\n",
    "      classification_loss {\n",
    "        weighted_sigmoid {\n",
    "        }\n",
    "      }\n",
    "      localization_loss {\n",
    "        weighted_smooth_l1 {\n",
    "        }\n",
    "      }\n",
    "      hard_example_miner {\n",
    "        num_hard_examples: 3000 \n",
    "        iou_threshold: 0.95\n",
    "        loss_type: CLASSIFICATION\n",
    "        max_negatives_per_positive: 3\n",
    "        min_negatives_per_image: 3\n",
    "      }\n",
    "      classification_weight: 1.0\n",
    "      localization_weight: 1.0\n",
    "    }\n",
    "    normalize_loss_by_num_matches: true\n",
    "    post_processing {\n",
    "      batch_non_max_suppression {\n",
    "        score_threshold: 1e-8\n",
    "        iou_threshold: 0.6\n",
    "        \n",
    "        #adjust this to the max number of objects per class. \n",
    "        # ex, in my case, i have one pistol in most of the images.\n",
    "        # . there are some images with more than one up to 16.\n",
    "        max_detections_per_class: 16\n",
    "        # max number of detections among all classes. I have 1 class only so\n",
    "        max_total_detections: 16\n",
    "      }\n",
    "      score_converter: SIGMOID\n",
    "    }\n",
    "  }\n",
    "}\n",
    "\n",
    "train_config: {\n",
    "  batch_size: 16 # training batch size\n",
    "  optimizer {\n",
    "    rms_prop_optimizer: {\n",
    "      learning_rate: {\n",
    "        exponential_decay_learning_rate {\n",
    "          initial_learning_rate: 0.003\n",
    "          decay_steps: 800720\n",
    "          decay_factor: 0.95\n",
    "        }\n",
    "      }\n",
    "      momentum_optimizer_value: 0.9\n",
    "      decay: 0.9\n",
    "      epsilon: 1.0\n",
    "    }\n",
    "  }\n",
    "\n",
    "  #the path to the pretrained model. \n",
    "  fine_tune_checkpoint: \"/content/gun_detection/models/research/pretrained_model/model.ckpt\"\n",
    "  fine_tune_checkpoint_type:  \"detection\"\n",
    "  # Note: The below line limits the training process to 200K steps, which we\n",
    "  # empirically found to be sufficient enough to train the pets dataset. This\n",
    "  # effectively bypasses the learning rate schedule (the learning rate will\n",
    "  # never decay). Remove the below line to train indefinitely.\n",
    "  num_steps: 5000 # <-- it was 200000 but we cant wait for this time 😀 OK?\n",
    "  \n",
    "\n",
    "  #data augmentaion is done here, you can remove or add more.\n",
    "  # They will help the model generalize but the training time will increase greatly by using more data augmentation.\n",
    "  # Check this link to add more image augmentation: https://github.com/tensorflow/models/blob/master/research/object_detection/protos/preprocessor.proto\n",
    "  \n",
    "  data_augmentation_options {\n",
    "    random_horizontal_flip {\n",
    "    }\n",
    "  }\n",
    "  data_augmentation_options {\n",
    "    random_adjust_contrast {\n",
    "    }\n",
    "  }\n",
    "  data_augmentation_options {\n",
    "    ssd_random_crop {\n",
    "    }\n",
    "  }\n",
    "}\n",
    "\n",
    "train_input_reader: {\n",
    "  tf_record_input_reader {\n",
    "    #path to the training TFRecord\n",
    "    input_path: \"/content/gun_detection/data/train_labels.record\"\n",
    "  }\n",
    "  #path to the label map \n",
    "  label_map_path: \"/content/gun_detection/data/label_map.pbtxt\"\n",
    "}\n",
    "\n",
    "eval_config: {\n",
    "  # the number of images in your \"testing\" data (was 600 but we removed one above :) )\n",
    "  num_examples: 599\n",
    "  # the number of images to disply in Tensorboard while training\n",
    "  num_visualizations: 20\n",
    "\n",
    "  # Note: The below line limits the evaluation process to 10 evaluations.\n",
    "  # Remove the below line to evaluate indefinitely.\n",
    "  #max_evals: 10\n",
    "}\n",
    "\n",
    "eval_input_reader: {\n",
    "  tf_record_input_reader {\n",
    "      \n",
    "    #path to the testing TFRecord\n",
    "    input_path: \"/content/gun_detection/data/test_labels.record\"\n",
    "  }\n",
    "  #path to the label map \n",
    "  label_map_path: \"/content/gun_detection/data/label_map.pbtxt\"\n",
    "  shuffle: false\n",
    "  num_readers: 1\n",
    "}"
   ]
  },
  {
   "cell_type": "code",
   "execution_count": 16,
   "metadata": {
    "id": "EuXXZLVEG8sO"
   },
   "outputs": [
    {
     "output_type": "stream",
     "name": "stderr",
     "text": [
      "�������⨬� ����: \"\".\n"
     ]
    }
   ],
   "source": [
    "\n",
    "#!!!!!!!!!!!!!!!!!!!!😀\n",
    "\n",
    "# where the model will be saved at each checkpoint while training \n",
    "model_dir = 'training/'\n",
    "\n",
    "# Optionally: remove content in output model directory to fresh start.\n",
    "!del {model_dir}\n",
    "os.makedirs(model_dir, exist_ok=True)"
   ]
  },
  {
   "cell_type": "markdown",
   "metadata": {
    "id": "8vAGvftxHu8K"
   },
   "source": [
    "## Tensorboard\n",
    "1. Downlaoding and unzipping Tensorboard\n",
    "2. creating a link to visualize multiple graph while training.\n",
    "\n",
    "\n",
    "notes: \n",
    "  1. Tensorboard will not log any files until the training starts. \n",
    "  2. a max of 20 connection per minute is allowed when using ngrok, you will not be able to access tensorboard while the model is logging."
   ]
  },
  {
   "cell_type": "code",
   "execution_count": 19,
   "metadata": {},
   "outputs": [
    {
     "output_type": "stream",
     "name": "stdout",
     "text": [
      "^C\n"
     ]
    }
   ],
   "source": [
    "# !tensorboard --logdir={LOG_DIR} --host localhost --port 8088"
   ]
  },
  {
   "cell_type": "code",
   "execution_count": 20,
   "metadata": {},
   "outputs": [
    {
     "output_type": "stream",
     "name": "stdout",
     "text": [
      "The tensorboard extension is already loaded. To reload it, use:\n  %reload_ext tensorboard\n"
     ]
    },
    {
     "output_type": "display_data",
     "data": {
      "text/plain": "Reusing TensorBoard on port 6006 (pid 16180), started 0:05:41 ago. (Use '!kill 16180' to kill it.)"
     },
     "metadata": {}
    }
   ],
   "source": [
    "%load_ext tensorboard\n",
    "%tensorboard --logdir {LOG_DIR}"
   ]
  },
  {
   "cell_type": "code",
   "execution_count": null,
   "metadata": {
    "colab": {
     "base_uri": "https://localhost:8080/"
    },
    "id": "Z2ucxlc5HxHL",
    "outputId": "25b19e40-3416-45e7-f53c-db3c1e1dd9aa"
   },
   "outputs": [],
   "source": [
    "#downlaoding ngrok to be able to access tensorboard on google colab\n",
    "# !wget https://bin.equinox.io/c/4VmDzA7iaHb/ngrok-stable-linux-amd64.zip\n",
    "# !unzip -o ngrok-stable-linux-amd64.zip"
   ]
  },
  {
   "cell_type": "code",
   "execution_count": 65,
   "metadata": {
    "id": "-w9ufxr7IAdv"
   },
   "outputs": [],
   "source": [
    "#the logs that are created while training \n",
    "# LOG_DIR = model_dir\n",
    "# get_ipython().system_raw(\n",
    "#     'tensorboard --logdir {} --host localhost --port 6006 &'\n",
    "#     .format(LOG_DIR)\n",
    "# )\n",
    "# get_ipython().system_raw('./ngrok http 6006 &')"
   ]
  },
  {
   "cell_type": "code",
   "execution_count": null,
   "metadata": {
    "colab": {
     "base_uri": "https://localhost:8080/"
    },
    "id": "idsi9zyNIIsr",
    "outputId": "69a67f77-69fa-441c-b150-b514fafbb072"
   },
   "outputs": [],
   "source": [
    "#The link to tensorboard.\n",
    "#works after the training starts.\n",
    "\n",
    "### note: if you didnt get a link as output, rerun this cell and the one above\n",
    "# !curl -s http://localhost:4040/api/tunnels | python3 -c \\\n",
    "#     \"import sys, json; print(json.load(sys.stdin)['tunnels'][0]['public_url'])\""
   ]
  },
  {
   "cell_type": "markdown",
   "metadata": {
    "id": "IuJcAPZFIfu7"
   },
   "source": [
    "## Training\n",
    "\n",
    "Finally training the model!\n"
   ]
  },
  {
   "cell_type": "code",
   "execution_count": 25,
   "metadata": {},
   "outputs": [
    {
     "output_type": "stream",
     "name": "stdout",
     "text": [
      "f:\\projects_local\\dolgonosiki-dataset\\tf\\models\\research\\object_detection\n"
     ]
    }
   ],
   "source": [
    "%cd ..\\research\\object_detection\\"
   ]
  },
  {
   "cell_type": "code",
   "execution_count": 27,
   "metadata": {},
   "outputs": [
    {
     "output_type": "stream",
     "name": "stdout",
     "text": [
      "Collecting scipy\n  Downloading scipy-1.5.4-cp37-cp37m-win_amd64.whl (31.2 MB)\nRequirement already satisfied: numpy>=1.14.5 in f:\\projects_local\\dolgonosiki-dataset\\venv\\lib\\site-packages (from scipy) (1.19.4)\nInstalling collected packages: scipy\nSuccessfully installed scipy-1.5.4\n"
     ]
    }
   ],
   "source": [
    "!pip install scipy"
   ]
  },
  {
   "cell_type": "code",
   "execution_count": 28,
   "metadata": {
    "colab": {
     "base_uri": "https://localhost:8080/"
    },
    "id": "R90fIDKPYOA5",
    "outputId": "22668d94-95cd-4d11-a63a-1965557f50ee"
   },
   "outputs": [
    {
     "output_type": "stream",
     "name": "stderr",
     "text": [
      "Traceback (most recent call last):\n  File \"model_main.py\", line 25, in <module>\n    from object_detection import model_lib\n  File \"F:\\projects_local\\dolgonosiki-dataset\\venv\\lib\\site-packages\\object_detection\\model_lib.py\", line 30, in <module>\n    from object_detection import exporter as exporter_lib\n  File \"F:\\projects_local\\dolgonosiki-dataset\\venv\\lib\\site-packages\\object_detection\\exporter.py\", line 24, in <module>\n    from object_detection.builders import model_builder\n  File \"F:\\projects_local\\dolgonosiki-dataset\\venv\\lib\\site-packages\\object_detection\\builders\\model_builder.py\", line 69, in <module>\n    from object_detection.models import faster_rcnn_inception_resnet_v2_feature_extractor as frcnn_inc_res\n  File \"F:\\projects_local\\dolgonosiki-dataset\\venv\\lib\\site-packages\\object_detection\\models\\faster_rcnn_inception_resnet_v2_feature_extractor.py\", line 30, in <module>\n    from nets import inception_resnet_v2\nModuleNotFoundError: No module named 'nets'\n"
     ]
    }
   ],
   "source": [
    "# !python3 .\\tf\\models\\research\\object_detection\\model_main.py \\\n",
    "!python model_main.py \\\n",
    "    --pipeline_config_path={model_pipline}\\\n",
    "    --model_dir={model_dir} \\\n",
    "    --alsologtostderr \\"
   ]
  },
  {
   "cell_type": "markdown",
   "metadata": {
    "id": "RPN8liiQc7Ue"
   },
   "source": [
    "## Exporting The Trained model\n",
    "\n"
   ]
  },
  {
   "cell_type": "code",
   "execution_count": null,
   "metadata": {
    "colab": {
     "base_uri": "https://localhost:8080/"
    },
    "id": "upwUdom0lTub",
    "outputId": "233de9aa-5066-4870-8732-0a130e1441e3"
   },
   "outputs": [],
   "source": [
    "#custom directory instead of /content/gun_detection/models/research/fine_tuned_model\n",
    "!mkdir /content/gun_detection/models/research/fine_tuned_model_dolgonosik\n",
    "\n",
    "#the location where the exported model will be saved in.\n",
    "output_directory = '/content/gun_detection/models/research/fine_tuned_model_dolgonosik' # <-- /content/gun_detection/models/research/fine_tuned_model\n",
    "\n",
    "# goes through the model is the training/ dir and gets the last one.\n",
    "# you could choose a specfic one instead of the last\n",
    "lst = os.listdir(model_dir)\n",
    "lst = [l for l in lst if 'model.ckpt-' in l and '.meta' in l]\n",
    "steps=np.array([int(re.findall('\\d+', l)[0]) for l in lst])\n",
    "last_model = lst[steps.argmax()].replace('.meta', '')\n",
    "last_model_path = os.path.join(model_dir, last_model)\n",
    "print(last_model_path)\n",
    "\n",
    "#exports the model specifed and inference graph\n",
    "!python /content/gun_detection/models/research/object_detection/export_inference_graph.py \\\n",
    "    --input_type=image_tensor \\\n",
    "    --pipeline_config_path={model_pipline} \\\n",
    "    --output_directory={output_directory} \\\n",
    "    --trained_checkpoint_prefix={last_model_path}"
   ]
  },
  {
   "cell_type": "code",
   "execution_count": null,
   "metadata": {
    "colab": {
     "base_uri": "https://localhost:8080/",
     "height": 17
    },
    "id": "yuxDnGPM_JPL",
    "outputId": "86b8729b-4713-4389-f39d-e6ad0dd9d80a"
   },
   "outputs": [],
   "source": [
    "#downloads the frozen model that is needed for inference\n",
    "files.download(output_directory + '/frozen_inference_graph.pb')"
   ]
  },
  {
   "cell_type": "code",
   "execution_count": null,
   "metadata": {
    "colab": {
     "base_uri": "https://localhost:8080/",
     "height": 17
    },
    "id": "PTkkaGq5BpYi",
    "outputId": "c73aa8ad-9b3e-4676-f0ca-b6df2c6e55ed"
   },
   "outputs": [],
   "source": [
    "#downlaod the label map\n",
    "files.download(DATA_BASE_PATH + '/label_map.pbtxt')"
   ]
  },
  {
   "cell_type": "markdown",
   "metadata": {
    "id": "CzoNviX1WtHn"
   },
   "source": [
    "# Checking results\n",
    "Part of code is taken from [this collab](https://colab.research.google.com/drive/1nPlFCpSwWuGE2R5E18qp3oYYBqZazXi1#scrollTo=9b47S_agGGG4)\n",
    "\n",
    "1. Loading model to memory (.pb)\n",
    "2. Loading all labels (.pbtxt)\n",
    "3. Initializing method to load an image\n",
    "4. Initializing method to search objects on image\n",
    "5. Testing model\n"
   ]
  },
  {
   "cell_type": "code",
   "execution_count": null,
   "metadata": {
    "id": "AWr3WwzHL2vC"
   },
   "outputs": [],
   "source": [
    "from object_detection.utils import ops as utils_ops\n",
    "from object_detection.utils import label_map_util\n",
    "from object_detection.utils import visualization_utils as vis_util\n",
    "from matplotlib import pyplot as plt\n",
    "from google.colab.patches import cv2_imshow\n",
    "\n",
    "model_file_name =  output_directory + '/frozen_inference_graph.pb'\n",
    "\n",
    "detection_graph = tf.Graph()\n",
    "with detection_graph.as_default():\n",
    "  od_graph_def = tf.GraphDef()\n",
    "  with tf.gfile.GFile(model_file_name, 'rb') as fid:\n",
    "    serialized_graph = fid.read()\n",
    "    od_graph_def.ParseFromString(serialized_graph)\n",
    "    tf.import_graph_def(od_graph_def, name='')"
   ]
  },
  {
   "cell_type": "code",
   "execution_count": null,
   "metadata": {
    "id": "kVNOe0xCXgdd"
   },
   "outputs": [],
   "source": [
    "labels_file_name = DATA_BASE_PATH + '/label_map.pbtxt'\n",
    "\n",
    "label_map = label_map_util.load_labelmap(labels_file_name)\n",
    "categories = label_map_util.convert_label_map_to_categories(label_map, max_num_classes=90, use_display_name=True)\n",
    "category_index = label_map_util.create_category_index(categories)"
   ]
  },
  {
   "cell_type": "code",
   "execution_count": null,
   "metadata": {
    "colab": {
     "base_uri": "https://localhost:8080/"
    },
    "id": "9glaGMTEXpj-",
    "outputId": "2b58fdf6-ad64-429f-cdeb-2fb2dc6f5b48"
   },
   "outputs": [],
   "source": [
    "category_index"
   ]
  },
  {
   "cell_type": "code",
   "execution_count": null,
   "metadata": {
    "id": "DjmEMO6IXqZ3"
   },
   "outputs": [],
   "source": [
    "def load_image(image_file_name):\n",
    "    image = Image.open(image_file_name)\n",
    "    (im_width, im_height) = image.size\n",
    "    return np.array(image.getdata()).reshape((im_height, im_width, 3)).astype(np.uint8)"
   ]
  },
  {
   "cell_type": "code",
   "execution_count": null,
   "metadata": {
    "id": "MPBHMREYXxU8"
   },
   "outputs": [],
   "source": [
    "def run_inference_for_single_image(image, graph):\n",
    "  with graph.as_default():\n",
    "    with tf.Session() as sess:\n",
    "      ops = tf.get_default_graph().get_operations()\n",
    "      all_tensor_names = {output.name for op in ops for output in op.outputs}\n",
    "      tensor_dict = {}\n",
    "      for key in [\n",
    "          'num_detections', 'detection_boxes', 'detection_scores',\n",
    "          'detection_classes', 'detection_masks'\n",
    "      ]:\n",
    "        tensor_name = key + ':0'\n",
    "        if tensor_name in all_tensor_names:\n",
    "          tensor_dict[key] = tf.get_default_graph().get_tensor_by_name(\n",
    "              tensor_name)\n",
    "      if 'detection_masks' in tensor_dict:\n",
    "        detection_boxes = tf.squeeze(tensor_dict['detection_boxes'], [0])\n",
    "        detection_masks = tf.squeeze(tensor_dict['detection_masks'], [0])\n",
    "        real_num_detection = tf.cast(tensor_dict['num_detections'][0], tf.int32)\n",
    "        detection_boxes = tf.slice(detection_boxes, [0, 0], [real_num_detection, -1])\n",
    "        detection_masks = tf.slice(detection_masks, [0, 0, 0], [real_num_detection, -1, -1])\n",
    "        detection_masks_reframed = utils_ops.reframe_box_masks_to_image_masks(\n",
    "            detection_masks, detection_boxes, image.shape[0], image.shape[1])\n",
    "        detection_masks_reframed = tf.cast(\n",
    "            tf.greater(detection_masks_reframed, 0.5), tf.uint8)\n",
    "        tensor_dict['detection_masks'] = tf.expand_dims(\n",
    "            detection_masks_reframed, 0)\n",
    "      image_tensor = tf.get_default_graph().get_tensor_by_name('image_tensor:0')\n",
    "\n",
    "      # Running object detection \n",
    "      output_dict = sess.run(tensor_dict,\n",
    "                             feed_dict={image_tensor: np.expand_dims(image, 0)})\n",
    "\n",
    "      # Converting from float32 to output dict\n",
    "      output_dict['num_detections'] = int(output_dict['num_detections'][0])\n",
    "      output_dict['detection_classes'] = output_dict[\n",
    "          'detection_classes'][0].astype(np.uint8)\n",
    "      output_dict['detection_boxes'] = output_dict['detection_boxes'][0]\n",
    "      output_dict['detection_scores'] = output_dict['detection_scores'][0]\n",
    "      if 'detection_masks' in output_dict:\n",
    "        output_dict['detection_masks'] = output_dict['detection_masks'][0]\n",
    "  return output_dict"
   ]
  },
  {
   "cell_type": "markdown",
   "metadata": {
    "id": "X41aSBwOZ5rZ"
   },
   "source": [
    "### Testing model"
   ]
  },
  {
   "cell_type": "code",
   "execution_count": null,
   "metadata": {
    "colab": {
     "base_uri": "https://localhost:8080/"
    },
    "id": "NojCjAc5Y_hF",
    "outputId": "512f3b8b-7555-4774-b5f8-febe2534a3a1"
   },
   "outputs": [],
   "source": [
    "# Testing model on image\n",
    "\n",
    "!wget https://sadiogorod24.ru/wp-content/uploads/2018/05/%D0%94%D0%BE%D0%BB%D0%B3%D0%BE%D0%BD%D0%BE%D1%81%D0%B8%D0%BA-%D0%BD%D0%B0-%D0%BA%D0%BB%D1%83%D0%B1%D0%BD%D0%B8%D0%BA%D0%B5.jpg\n"
   ]
  },
  {
   "cell_type": "code",
   "execution_count": null,
   "metadata": {
    "colab": {
     "base_uri": "https://localhost:8080/",
     "height": 262
    },
    "id": "k1m1KWEmZc3i",
    "outputId": "02ebfbd9-264c-4c5a-b01f-19ab8170aae6"
   },
   "outputs": [],
   "source": [
    "# loading image\n",
    "test_image = load_image('https://sadiogorod24.ru/wp-content/uploads/2018/05/%D0%94%D0%BE%D0%BB%D0%B3%D0%BE%D0%BD%D0%BE%D1%81%D0%B8%D0%BA-%D0%BD%D0%B0-%D0%BA%D0%BB%D1%83%D0%B1%D0%BD%D0%B8%D0%BA%D0%B5.jpg')\n",
    "plt.figure(figsize=(12, 8))\n",
    "plt.grid(False)\n",
    "cv2_imshow(cv2.cvtColor(test_image, cv2.COLOR_BGR2RGB))"
   ]
  },
  {
   "cell_type": "code",
   "execution_count": null,
   "metadata": {
    "id": "7wLWEOfEZ-8c"
   },
   "outputs": [],
   "source": [
    "# Running object detection\n",
    "output_dict = run_inference_for_single_image(test_image, detection_graph)"
   ]
  },
  {
   "cell_type": "code",
   "execution_count": null,
   "metadata": {
    "colab": {
     "base_uri": "https://localhost:8080/",
     "height": 497
    },
    "id": "ce8jhbuiaFv9",
    "outputId": "15e359cf-6b1c-4bb7-fd10-759f44d47c6b"
   },
   "outputs": [],
   "source": [
    "# shows results\n",
    "vis_util.visualize_boxes_and_labels_on_image_array(\n",
    "      test_image,\n",
    "      output_dict['detection_boxes'],\n",
    "      output_dict['detection_classes'],\n",
    "      output_dict['detection_scores'],\n",
    "      category_index,\n",
    "      instance_masks=output_dict.get('detection_masks'),\n",
    "      use_normalized_coordinates=True,\n",
    "      line_thickness=6)\n",
    "plt.figure(figsize=(12, 8))\n",
    "plt.grid(False)\n",
    "cv2_imshow(cv2.cvtColor(test_image, cv2.COLOR_BGR2RGB))"
   ]
  },
  {
   "cell_type": "markdown",
   "metadata": {
    "id": "RNR3NfkjQf0x"
   },
   "source": [
    "# ADDITIONAL [from article]\n",
    "\n",
    "Camera detection: https://gist.github.com/AlaaSenjab/c223e21e7ce3b0e32bf7ba5a5a37a941#file-live_inference-py "
   ]
  }
 ],
 "metadata": {
  "accelerator": "GPU",
  "colab": {
   "collapsed_sections": [],
   "name": "Долгоносики \"weapon_detection_BL (2020).ipynb\"\"",
   "provenance": [],
   "toc_visible": true
  },
  "kernelspec": {
   "name": "python3",
   "display_name": "Python 3.7.0 64-bit ('venv')",
   "metadata": {
    "interpreter": {
     "hash": "aca1f91c6b2f6c54690c50e31bf6ec483a83bcedb52ee710f63168ee80f308c9"
    }
   }
  },
  "language_info": {
   "codemirror_mode": {
    "name": "ipython",
    "version": 3
   },
   "file_extension": ".py",
   "mimetype": "text/x-python",
   "name": "python",
   "nbconvert_exporter": "python",
   "pygments_lexer": "ipython3",
   "version": "3.7.0-final"
  }
 },
 "nbformat": 4,
 "nbformat_minor": 1
}